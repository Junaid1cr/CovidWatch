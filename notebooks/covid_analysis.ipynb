{
 "cells": [
  {
   "cell_type": "code",
   "execution_count": null,
   "id": "25f5672e",
   "metadata": {
    "vscode": {
     "languageId": "plaintext"
    }
   },
   "outputs": [],
   "source": [
    "import pandas as pd\n",
    "import numpy as np\n",
    "import matplotlib.pyplot as plt\n",
    "import seaborn as sns\n",
    "from sklearn.model_selection import train_test_split\n",
    "from sklearn.ensemble import RandomForestClassifier\n",
    "from sklearn.metrics import classification_report, accuracy_score\n",
    "import joblib\n",
    "\n",
    "\n",
    "df = pd.read_csv('data/covid_19_india.csv')\n",
    "\n",
    "\n",
    "df.fillna(0, inplace=True)\n",
    "df['Date'] = pd.to_datetime(df['Date'])\n",
    "df['Confirmed'] = df['Confirmed'].astype(int)\n",
    "df['Deaths'] = df['Deaths'].astype(int)\n",
    "df['Recovered'] = df['Recovered'].astype(int)\n",
    "df['Active'] = df['Confirmed'] - df['Deaths'] - df['Recovered']\n",
    "\n",
    "\n",
    "X = df[['Confirmed', 'Deaths', 'Recovered', 'Active']]\n",
    "y = np.where(df['Confirmed'] > 1000, 1, 0)  \n",
    "\n",
    "X_train, X_test, y_train, y_test = train_test_split(X, y, test_size=0.2, random_state=42)\n",
    "\n",
    "model = RandomForestClassifier(n_estimators=100, random_state=42)\n",
    "model.fit(X_train, y_train)\n",
    "\n",
    "y_pred = model.predict(X_test)\n",
    "print(classification_report(y_test, y_pred))\n",
    "print(f\"Accuracy: {accuracy_score(y_test, y_pred):.2f}\")\n",
    "\n",
    "joblib.dump(model, 'covid_rf_model.joblib')\n",
    "\n",
    "\n"
   ]
  }
 ],
 "metadata": {
  "language_info": {
   "name": "python"
  }
 },
 "nbformat": 4,
 "nbformat_minor": 5
}
